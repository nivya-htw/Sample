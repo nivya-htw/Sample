{
 "cells": [
  {
   "cell_type": "code",
   "execution_count": null,
   "metadata": {
    "id": "M-xumNys8pyF"
   },
   "outputs": [],
   "source": []
  },
  {
   "cell_type": "markdown",
   "metadata": {
    "id": "KuzeSv1D85H-"
   },
   "source": [
    "### Loading packages"
   ]
  },
  {
   "cell_type": "code",
   "execution_count": null,
   "metadata": {
    "id": "LUnSzwmu88qg"
   },
   "outputs": [],
   "source": [
    "# Package to process array and metrics\n",
    "import numpy as np\n",
    "\n",
    "# Package to process dataframe\n",
    "import pandas as pd\n",
    "\n",
    "\n",
    "# Package to plot the figures\n",
    "import matplotlib.pyplot as plt\n",
    "import seaborn as sns\n",
    "\n",
    "# nice printing\n",
    "from pprint import pprint \n",
    "\n",
    "# Enable logging\n",
    "import warnings\n",
    "\n",
    "\n",
    "# import nltk and spacy\n",
    "import nltk\n",
    "import spacy\n",
    "\n",
    "# import English model\n",
    "from spacy.lang.en import English\n",
    "# stop word list\n",
    "from spacy.lang.en.stop_words import STOP_WORDS\n",
    "# import string\n",
    "import string\n",
    "\n",
    "# Classsification tasks, text specific\n",
    "from sklearn.feature_extraction.text import CountVectorizer, TfidfVectorizer\n",
    "from sklearn.model_selection import train_test_split\n",
    "from sklearn.linear_model import LogisticRegression\n",
    "from sklearn.pipeline import Pipeline\n",
    "from sklearn.metrics import confusion_matrix, classification_report\n",
    "\n"
   ]
  },
  {
   "cell_type": "code",
   "execution_count": null,
   "metadata": {
    "id": "dgghmfkN9M4x"
   },
   "outputs": [],
   "source": [
    "## Loading "
   ]
  },
  {
   "cell_type": "markdown",
   "metadata": {
    "id": "CnymhkKr9ZlA"
   },
   "source": [
    "### Loading Data"
   ]
  },
  {
   "cell_type": "code",
   "execution_count": null,
   "metadata": {
    "colab": {
     "base_uri": "https://localhost:8080/"
    },
    "id": "O1cgTDA19egR",
    "outputId": "c1ec7e8a-9bca-4cd4-da70-c1dede590cf1"
   },
   "outputs": [
    {
     "name": "stdout",
     "output_type": "stream",
     "text": [
      "Drive already mounted at /content/drive; to attempt to forcibly remount, call drive.mount(\"/content/drive\", force_remount=True).\n"
     ]
    }
   ],
   "source": [
    "# from google.colab import files\n",
    "from google.colab import drive \n",
    "\n",
    "#Upload the files on g-drive and below code is for mounting the drive\n",
    "drive.mount('/content/drive')\n",
    "# Read as object to avoid that pandas does any smart type conversion\n",
    "# because we want to store the sample data in exactly the same format as the original data\n",
    "df = pd.read_excel(r\"/content/drive/My Drive/hotelSatisfaction_English.xlsx\", dtype=object)"
   ]
  },
  {
   "cell_type": "markdown",
   "metadata": {
    "id": "hc6RY2Yg-MUL"
   },
   "source": [
    "### Data Undersatnding"
   ]
  },
  {
   "cell_type": "code",
   "execution_count": null,
   "metadata": {
    "colab": {
     "base_uri": "https://localhost:8080/",
     "height": 204
    },
    "id": "pJ0BRSoo-UWY",
    "outputId": "0b5d0106-f791-4571-c06a-2936b9ce1607"
   },
   "outputs": [
    {
     "data": {
      "text/html": [
       "<div>\n",
       "<style scoped>\n",
       "    .dataframe tbody tr th:only-of-type {\n",
       "        vertical-align: middle;\n",
       "    }\n",
       "\n",
       "    .dataframe tbody tr th {\n",
       "        vertical-align: top;\n",
       "    }\n",
       "\n",
       "    .dataframe thead th {\n",
       "        text-align: right;\n",
       "    }\n",
       "</style>\n",
       "<table border=\"1\" class=\"dataframe\">\n",
       "  <thead>\n",
       "    <tr style=\"text-align: right;\">\n",
       "      <th></th>\n",
       "      <th>Comments</th>\n",
       "      <th>OverallSentiment</th>\n",
       "    </tr>\n",
       "  </thead>\n",
       "  <tbody>\n",
       "    <tr>\n",
       "      <th>0</th>\n",
       "      <td>Rooms were clean.</td>\n",
       "      <td>positive</td>\n",
       "    </tr>\n",
       "    <tr>\n",
       "      <th>1</th>\n",
       "      <td>Excellent value for money</td>\n",
       "      <td>positive</td>\n",
       "    </tr>\n",
       "    <tr>\n",
       "      <th>2</th>\n",
       "      <td>Parking too small. No free wifi in rooms. No c...</td>\n",
       "      <td>negative</td>\n",
       "    </tr>\n",
       "    <tr>\n",
       "      <th>3</th>\n",
       "      <td>Comfortable rooms, outstanding breakfast, nice...</td>\n",
       "      <td>positive</td>\n",
       "    </tr>\n",
       "    <tr>\n",
       "      <th>4</th>\n",
       "      <td>Quiet location right on the beach.</td>\n",
       "      <td>positive</td>\n",
       "    </tr>\n",
       "  </tbody>\n",
       "</table>\n",
       "</div>"
      ],
      "text/plain": [
       "                                            Comments OverallSentiment\n",
       "0                                  Rooms were clean.         positive\n",
       "1                          Excellent value for money         positive\n",
       "2  Parking too small. No free wifi in rooms. No c...         negative\n",
       "3  Comfortable rooms, outstanding breakfast, nice...         positive\n",
       "4                 Quiet location right on the beach.         positive"
      ]
     },
     "execution_count": 25,
     "metadata": {
      "tags": []
     },
     "output_type": "execute_result"
    }
   ],
   "source": [
    "df.head()"
   ]
  },
  {
   "cell_type": "code",
   "execution_count": null,
   "metadata": {
    "colab": {
     "base_uri": "https://localhost:8080/"
    },
    "id": "7IFvRhxP-ZfE",
    "outputId": "f93ddffa-e3f2-4416-8b44-1bf001922598"
   },
   "outputs": [
    {
     "data": {
      "text/plain": [
       "(860, 2)"
      ]
     },
     "execution_count": 26,
     "metadata": {
      "tags": []
     },
     "output_type": "execute_result"
    }
   ],
   "source": [
    "df.shape"
   ]
  },
  {
   "cell_type": "code",
   "execution_count": null,
   "metadata": {
    "colab": {
     "base_uri": "https://localhost:8080/"
    },
    "id": "PLbPa9dm931Y",
    "outputId": "5c74edc4-7f39-4ba3-f80c-4e0637a9a7ee"
   },
   "outputs": [
    {
     "data": {
      "text/plain": [
       "2"
      ]
     },
     "execution_count": 27,
     "metadata": {
      "tags": []
     },
     "output_type": "execute_result"
    }
   ],
   "source": [
    "df['OverallSentiment'].nunique()"
   ]
  },
  {
   "cell_type": "code",
   "execution_count": null,
   "metadata": {
    "colab": {
     "base_uri": "https://localhost:8080/",
     "height": 361
    },
    "id": "fkofMLF8-j0X",
    "outputId": "7046618d-2fd5-49e1-9625-5138bb8b381a"
   },
   "outputs": [
    {
     "data": {
      "image/png": "[encoded data removed]",
      "text/plain": [
       "<Figure size 576x396 with 1 Axes>"
      ]
     },
     "metadata": {
      "image/png": {
       "height": 344,
       "width": 499
      },
      "tags": []
     },
     "output_type": "display_data"
    }
   ],
   "source": [
    "fig, ax = plt.subplots()\n",
    "_ = sns.countplot(x='OverallSentiment', data=df)\n",
    "plt.show()"
   ]
  },
  {
   "cell_type": "code",
   "execution_count": null,
   "metadata": {
    "id": "t7ljoK16-okR"
   },
   "outputs": [],
   "source": []
  },
  {
   "cell_type": "markdown",
   "metadata": {
    "id": "cfHb39I4-sjp"
   },
   "source": [
    "### Data Preparation\n",
    " - Tokenizer\n",
    "     - Token count matix\n",
    "     - TFIDF matrix"
   ]
  },
  {
   "cell_type": "code",
   "execution_count": null,
   "metadata": {
    "id": "Fa6j_VpG-yB5"
   },
   "outputs": [],
   "source": [
    "# Creating a tokenizer function:\n",
    "def tokenizer(sentence):\n",
    "  # Creating our token object, which is used to create documents with linguistic annotations.\n",
    "  mytokens = parser(sentence)\n",
    "  # Lemmatizing each token and converting each token into lowercase\n",
    "  mytokens = [ word.lemma_.lower().strip() if word.lemma_ != \"PRON-\" else word.lower_ for word in mytokens ]\n",
    "  # Removing stop words\n",
    "  mytokens = [word for word in mytokens if word not in stop_words and word not in punctuation]\n",
    "  # return preprocessed list of tokens\n",
    "  return mytokens"
   ]
  },
  {
   "cell_type": "code",
   "execution_count": null,
   "metadata": {
    "id": "TWKdAPW4-0NB"
   },
   "outputs": [],
   "source": [
    "# Instantiate an object English\n",
    "parser = English()\n",
    "# List of stopwords\n",
    "stop_words = STOP_WORDS\n",
    "# List of punctuation marks we want to delete\n",
    "punctuation = string.punctuation\n",
    "# Convert a collection of text documents to a matrix of token counts\n",
    "cnt_vector = CountVectorizer(tokenizer=tokenizer, ngram_range=(2,2))\n",
    "# Convert a collection of raw documents to a matrix of TF-IDF features.\n",
    "tfidf_vector = TfidfVectorizer(tokenizer=tokenizer, ngram_range=(2,2))"
   ]
  },
  {
   "cell_type": "code",
   "execution_count": null,
   "metadata": {
    "colab": {
     "base_uri": "https://localhost:8080/"
    },
    "id": "FN_R2ZEf-35n",
    "outputId": "2f5e7286-2615-4273-ba46-29121c493718"
   },
   "outputs": [
    {
     "data": {
      "text/plain": [
       "((645,), (645,), (215,), (215,))"
      ]
     },
     "execution_count": 31,
     "metadata": {
      "tags": []
     },
     "output_type": "execute_result"
    }
   ],
   "source": [
    "# Independent and dependent features\n",
    "X, y = df['Comments'], df['OverallSentiment']\n",
    "X_train, X_test, y_train , y_test = train_test_split(X, y, test_size = 0.25, stratify=y, random_state=121)\n",
    "X_train.shape, y_train.shape, X_test.shape, y_test.shape"
   ]
  },
  {
   "cell_type": "markdown",
   "metadata": {
    "id": "lBIA43LX-5SL"
   },
   "source": [
    "### Modelling"
   ]
  },
  {
   "cell_type": "code",
   "execution_count": null,
   "metadata": {
    "id": "ehxcG9qJ_HYf"
   },
   "outputs": [],
   "source": [
    "# Logistic Regression Classifier\n",
    "LR = LogisticRegression()\n",
    "# Create the pipeline\n",
    "pipeline = Pipeline([(\"TV\", tfidf_vector), (\"LR\", LR)]) "
   ]
  },
  {
   "cell_type": "code",
   "execution_count": null,
   "metadata": {
    "colab": {
     "base_uri": "https://localhost:8080/"
    },
    "id": "f6r2i3N-_LSY",
    "outputId": "93768f5d-3e56-4ce3-8ae1-6c1546dd6e02"
   },
   "outputs": [
    {
     "data": {
      "text/plain": [
       "Pipeline(memory=None,\n",
       "         steps=[('TV',\n",
       "                 TfidfVectorizer(analyzer='word', binary=False,\n",
       "                                 decode_error='strict',\n",
       "                                 dtype=<class 'numpy.float64'>,\n",
       "                                 encoding='utf-8', input='content',\n",
       "                                 lowercase=True, max_df=1.0, max_features=None,\n",
       "                                 min_df=1, ngram_range=(2, 2), norm='l2',\n",
       "                                 preprocessor=None, smooth_idf=True,\n",
       "                                 stop_words=None, strip_accents=None,\n",
       "                                 sublinear_tf=False,\n",
       "                                 token_pattern='(?u)\\\\b\\\\w\\\\w+\\\\b',\n",
       "                                 tokenizer=<function tokenizer at 0x7fdd4a509950>,\n",
       "                                 use_idf=True, vocabulary=None)),\n",
       "                ('LR',\n",
       "                 LogisticRegression(C=1.0, class_weight=None, dual=False,\n",
       "                                    fit_intercept=True, intercept_scaling=1,\n",
       "                                    l1_ratio=None, max_iter=100,\n",
       "                                    multi_class='auto', n_jobs=None,\n",
       "                                    penalty='l2', random_state=None,\n",
       "                                    solver='lbfgs', tol=0.0001, verbose=0,\n",
       "                                    warm_start=False))],\n",
       "         verbose=False)"
      ]
     },
     "execution_count": 33,
     "metadata": {
      "tags": []
     },
     "output_type": "execute_result"
    }
   ],
   "source": [
    "pipeline.fit(X_train, y_train)"
   ]
  },
  {
   "cell_type": "code",
   "execution_count": null,
   "metadata": {
    "id": "MuPFz5Dd_NDA"
   },
   "outputs": [],
   "source": [
    "#Prediction\n",
    "y_pred=pipeline.predict(X_test)"
   ]
  },
  {
   "cell_type": "markdown",
   "metadata": {
    "id": "Cg9DX5MR_PVu"
   },
   "source": [
    "### Evaluation"
   ]
  },
  {
   "cell_type": "code",
   "execution_count": null,
   "metadata": {
    "colab": {
     "base_uri": "https://localhost:8080/"
    },
    "id": "yaHockWw_Ro6",
    "outputId": "413a121f-73eb-4dd2-ef04-3c8e6dfa2cf6"
   },
   "outputs": [
    {
     "data": {
      "text/plain": [
       "0.8651162790697674"
      ]
     },
     "execution_count": 35,
     "metadata": {
      "tags": []
     },
     "output_type": "execute_result"
    }
   ],
   "source": [
    "\n",
    "pipeline.score(y_test, y_pred)"
   ]
  },
  {
   "cell_type": "code",
   "execution_count": null,
   "metadata": {
    "colab": {
     "base_uri": "https://localhost:8080/"
    },
    "id": "MRGBbxlW-t-F",
    "outputId": "779037ae-d6fd-40e8-be29-c9a7957a298e"
   },
   "outputs": [
    {
     "data": {
      "text/plain": [
       "array([[ 27,  59],\n",
       "       [  2, 127]])"
      ]
     },
     "execution_count": 36,
     "metadata": {
      "tags": []
     },
     "output_type": "execute_result"
    }
   ],
   "source": [
    "confusion_matrix(y_test, y_pred)"
   ]
  },
  {
   "cell_type": "code",
   "execution_count": null,
   "metadata": {
    "colab": {
     "base_uri": "https://localhost:8080/"
    },
    "id": "dJJpxhsY_ZM8",
    "outputId": "f5d183e2-02e1-444a-f55c-0cedb466825b"
   },
   "outputs": [
    {
     "name": "stdout",
     "output_type": "stream",
     "text": [
      "              precision    recall  f1-score   support\n",
      "\n",
      "    negative       0.93      0.31      0.47        86\n",
      "    positive       0.68      0.98      0.81       129\n",
      "\n",
      "    accuracy                           0.72       215\n",
      "   macro avg       0.81      0.65      0.64       215\n",
      "weighted avg       0.78      0.72      0.67       215\n",
      "\n"
     ]
    }
   ],
   "source": [
    "print(classification_report(y_test, y_pred))"
   ]
  },
  {
   "cell_type": "code",
   "execution_count": null,
   "metadata": {
    "id": "CXKkgaA2_bs0"
   },
   "outputs": [],
   "source": []
  },
  {
   "cell_type": "code",
   "execution_count": null,
   "metadata": {
    "id": "5VhiZhP4-rBu"
   },
   "outputs": [],
   "source": []
  }
 ],
 "metadata": {
  "colab": {
   "collapsed_sections": [],
   "name": "Last2.ipynb",
   "provenance": []
  },
  "kernelspec": {
   "display_name": "Python 3",
   "language": "python",
   "name": "python3"
  },
  "language_info": {
   "codemirror_mode": {
    "name": "ipython",
    "version": 3
   },
   "file_extension": ".py",
   "mimetype": "text/x-python",
   "name": "python",
   "nbconvert_exporter": "python",
   "pygments_lexer": "ipython3",
   "version": "3.7.6"
  }
 },
 "nbformat": 4,
 "nbformat_minor": 1
}
